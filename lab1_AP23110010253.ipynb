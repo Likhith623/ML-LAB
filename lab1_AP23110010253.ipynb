{
  "cells": [
    {
      "cell_type": "markdown",
      "id": "20dc80e4",
      "metadata": {
        "id": "20dc80e4"
      },
      "source": [
        "# 🧑‍💻 NumPy Complete Guided Project\n",
        "**Instructor / Student Colab Notebook** – covers *all* key concepts from `Numpy‑1` to `Numpy‑5`.\n",
        "\n",
        "*Generated: 08 Aug 2025*"
      ]
    },
    {
      "cell_type": "markdown",
      "id": "e8b8b6cf",
      "metadata": {
        "id": "e8b8b6cf"
      },
      "source": [
        "\n",
        "**Table of Contents**\n",
        "\n",
        "1. [Setup](#setup)  \n",
        "2. [Array Creation & Dtypes](#creation)  \n",
        "3. [Array Attributes & Inspection](#attributes)  \n",
        "4. [Indexing, Slicing, Fancy Indexing](#indexing)  \n",
        "5. [Reshaping, Transpose & Copies vs Views](#reshape)  \n",
        "6. [Joining, Splitting, Set & Sorting Ops](#join)  \n",
        "7. [Arithmetic Ops, Universal Functions](#arithmetic)  \n",
        "8. [Broadcasting (Rules + Examples)](#broadcast)  \n",
        "9. [Statistics & Aggregations](#stats)  \n",
        "10. [Random Numbers & Reproducibility](#random)  \n",
        "11. [Structured / Recarrays](#structured)  \n",
        "12. [Linear Algebra Essentials](#linalg)  \n",
        "13. [File I/O (`npy`, `npz`, `txt`)](#io)  \n",
        "14. [Datetime64 & Timedelta64](#datetime)  \n",
        "15. [Masked Arrays & NaNs](#mask)  \n",
        "16. [Mini‑Project — Fitness Data Analysis](#project)  \n",
        "17. [Conclusion & Next Steps](#conclusion)  \n"
      ]
    },
    {
      "cell_type": "markdown",
      "id": "9170f3ee",
      "metadata": {
        "id": "9170f3ee"
      },
      "source": [
        "## <a name='setup'></a>1️⃣ Setup"
      ]
    },
    {
      "cell_type": "code",
      "execution_count": 1,
      "id": "4f54988f",
      "metadata": {
        "colab": {
          "base_uri": "https://localhost:8080/"
        },
        "id": "4f54988f",
        "outputId": "4369260f-3ae1-4d2c-c7f8-bc2068573615"
      },
      "outputs": [
        {
          "output_type": "stream",
          "name": "stdout",
          "text": [
            "NumPy version: 2.0.2\n"
          ]
        }
      ],
      "source": [
        "import numpy as np, math, os, pathlib, types, textwrap, random\n",
        "print('NumPy version:', np.__version__)"
      ]
    },
    {
      "cell_type": "markdown",
      "id": "c7f7b2c8",
      "metadata": {
        "id": "c7f7b2c8"
      },
      "source": [
        "## <a name='creation'></a>2️⃣ Array Creation & Dtypes"
      ]
    },
    {
      "cell_type": "markdown",
      "id": "47405152",
      "metadata": {
        "id": "47405152"
      },
      "source": [
        "Key functions: `np.array`, `np.arange`, `np.linspace`, `zeros`, `ones`, `full`, `eye`, `identity`, `diag`, `empty`"
      ]
    },
    {
      "cell_type": "code",
      "execution_count": 2,
      "id": "801e99ad",
      "metadata": {
        "colab": {
          "base_uri": "https://localhost:8080/"
        },
        "id": "801e99ad",
        "outputId": "dc151bbf-b4f5-4e6b-f017-f28694354e75"
      },
      "outputs": [
        {
          "output_type": "stream",
          "name": "stdout",
          "text": [
            "[1 2 3]\n",
            "[0.  0.2 0.4 0.6 0.8 1. ]\n",
            "[[7.5 7.5 7.5]\n",
            " [7.5 7.5 7.5]]\n",
            "dtypes: int32 float64\n"
          ]
        }
      ],
      "source": [
        "# EXAMPLE\n",
        "arr1 = np.array([1, 2, 3], dtype=np.int32)\n",
        "arr2 = np.linspace(0, 1, 6)\n",
        "arr3 = np.full((2,3), 7.5)\n",
        "print(arr1, arr2, arr3, sep=\"\\n\")\n",
        "print(\"dtypes:\", arr1.dtype, arr2.dtype)\n"
      ]
    },
    {
      "cell_type": "markdown",
      "id": "925be762",
      "metadata": {
        "id": "925be762"
      },
      "source": [
        "## <a name='attributes'></a>3️⃣ Array Attributes & Inspection"
      ]
    },
    {
      "cell_type": "markdown",
      "id": "f103bb36",
      "metadata": {
        "id": "f103bb36"
      },
      "source": [
        "`shape`, `ndim`, `size`, `dtype`, `itemsize`, `nbytes`"
      ]
    },
    {
      "cell_type": "code",
      "execution_count": 3,
      "id": "ad3eeda1",
      "metadata": {
        "id": "ad3eeda1",
        "colab": {
          "base_uri": "https://localhost:8080/"
        },
        "outputId": "50198cc2-7e7d-403b-963f-423ecfab8384"
      },
      "outputs": [
        {
          "output_type": "stream",
          "name": "stdout",
          "text": [
            "shape (3, 4) ndim 2 size 12 itemsize 8 total bytes 96\n"
          ]
        }
      ],
      "source": [
        "M = np.arange(12).reshape(3,4)\n",
        "print('shape', M.shape, 'ndim', M.ndim, 'size', M.size, 'itemsize', M.itemsize, 'total bytes', M.nbytes)\n"
      ]
    },
    {
      "cell_type": "code",
      "execution_count": 4,
      "id": "5875fefe",
      "metadata": {
        "colab": {
          "base_uri": "https://localhost:8080/"
        },
        "id": "5875fefe",
        "outputId": "c8d35d0b-47a7-47c5-8de2-cb59f65bfb9b"
      },
      "outputs": [
        {
          "output_type": "stream",
          "name": "stdout",
          "text": [
            "Memory footprint (bytes): 8000000\n"
          ]
        }
      ],
      "source": [
        "# 🖊️ TODO: check memory footprint of a 1000×1000 float64 array\n",
        "arr = np.zeros((1000, 1000), dtype=np.float64)\n",
        "print('Memory footprint (bytes):', arr.nbytes)"
      ]
    },
    {
      "cell_type": "markdown",
      "id": "bd895660",
      "metadata": {
        "id": "bd895660"
      },
      "source": [
        "## <a name='indexing'></a>4️⃣ Indexing, Slicing & Fancy Indexing"
      ]
    },
    {
      "cell_type": "code",
      "execution_count": 5,
      "id": "5dc7d4c1",
      "metadata": {
        "id": "5dc7d4c1",
        "colab": {
          "base_uri": "https://localhost:8080/"
        },
        "outputId": "91382fa8-5322-447e-852b-2a74a0f28a23"
      },
      "outputs": [
        {
          "output_type": "stream",
          "name": "stdout",
          "text": [
            "[ 1  6 11 16 21]\n",
            "[[ 1  3  5]\n",
            " [11 13 15]\n",
            " [21 23 25]]\n",
            "multiples of 3: [ 3  6  9 12 15 18 21 24]\n"
          ]
        }
      ],
      "source": [
        "a = np.arange(1,26).reshape(5,5)\n",
        "print(a[:, 0])     # first column\n",
        "print(a[::2, ::2]) # every 2nd row/col\n",
        "mask = (a % 3 == 0)\n",
        "print('multiples of 3:', a[mask])\n"
      ]
    },
    {
      "cell_type": "code",
      "execution_count": 6,
      "id": "9c4bd5f4",
      "metadata": {
        "colab": {
          "base_uri": "https://localhost:8080/"
        },
        "id": "9c4bd5f4",
        "outputId": "c435fcdc-1185-4310-def1-5bb7a1f45f17"
      },
      "outputs": [
        {
          "output_type": "stream",
          "name": "stdout",
          "text": [
            "[[21 22 23 24 25]\n",
            " [ 6  7  8  9 10]\n",
            " [11 12 13 14 15]\n",
            " [16 17 18 19 20]\n",
            " [ 1  2  3  4  5]]\n"
          ]
        }
      ],
      "source": [
        "# 🖊️ TODO: use fancy indexing to swap first and last rows of `a`\n",
        "a = np.arange(1,26).reshape(5,5)\n",
        "a[[0, -1], :] = a[[-1, 0], :]\n",
        "print(a)"
      ]
    },
    {
      "cell_type": "markdown",
      "id": "8f4de1d5",
      "metadata": {
        "id": "8f4de1d5"
      },
      "source": [
        "## <a name='reshape'></a>5️⃣ Reshaping, Transpose & Copies vs Views"
      ]
    },
    {
      "cell_type": "code",
      "execution_count": 7,
      "id": "053b4ff4",
      "metadata": {
        "id": "053b4ff4",
        "colab": {
          "base_uri": "https://localhost:8080/"
        },
        "outputId": "601fba78-6cec-45c5-8567-d12c3f00ca6d"
      },
      "outputs": [
        {
          "output_type": "stream",
          "name": "stdout",
          "text": [
            "b is modified: [99  1  2  3  4  5  6  7]\n",
            "b unchanged with copy: [99  1  2  3  4  5  6  7]\n"
          ]
        }
      ],
      "source": [
        "b = np.arange(8)\n",
        "B = b.reshape(2,4)\n",
        "B[0,0] = 99\n",
        "print('b is modified:', b)\n",
        "C = b.reshape(2,4).copy()\n",
        "C[0,0] = -1\n",
        "print('b unchanged with copy:', b)\n"
      ]
    },
    {
      "cell_type": "code",
      "execution_count": 8,
      "id": "a3e599bd",
      "metadata": {
        "colab": {
          "base_uri": "https://localhost:8080/"
        },
        "id": "a3e599bd",
        "outputId": "28e7f113-d956-46e1-a99d-15de7d22c711"
      },
      "outputs": [
        {
          "output_type": "stream",
          "name": "stdout",
          "text": [
            "Original array:\n",
            " [[1 2]\n",
            " [3 4]]\n",
            "Original array after ravel modification:\n",
            " [[99  2]\n",
            " [ 3  4]]\n",
            "Original array after flatten modification:\n",
            " [[1 2]\n",
            " [3 4]]\n"
          ]
        }
      ],
      "source": [
        "arr_2d = np.array([[1, 2], [3, 4]])\n",
        "print(\"Original array:\\n\", arr_2d)\n",
        "\n",
        "ravelled_arr = arr_2d.ravel()\n",
        "ravelled_arr[0] = 99\n",
        "\n",
        "print(\"Original array after ravel modification:\\n\", arr_2d)\n",
        "\n",
        "arr_2d_copy = np.array([[1, 2], [3, 4]])\n",
        "flattened_arr = arr_2d_copy.flatten()\n",
        "flattened_arr[0] = 88\n",
        "\n",
        "print(\"Original array after flatten modification:\\n\", arr_2d_copy)"
      ]
    },
    {
      "cell_type": "markdown",
      "id": "2390c4ae",
      "metadata": {
        "id": "2390c4ae"
      },
      "source": [
        "## <a name='join'></a>6️⃣ Joining, Splitting, Set & Sorting Ops"
      ]
    },
    {
      "cell_type": "code",
      "execution_count": 9,
      "id": "a53f640a",
      "metadata": {
        "id": "a53f640a",
        "colab": {
          "base_uri": "https://localhost:8080/"
        },
        "outputId": "3e8a89d4-ed7c-4d53-c3b8-fc6da7c7a8b1"
      },
      "outputs": [
        {
          "output_type": "stream",
          "name": "stdout",
          "text": [
            "union [1 2 3 4 5 6]\n",
            "intersect [1 2]\n",
            "sorted descending [6 5 4 3 2 1]\n"
          ]
        }
      ],
      "source": [
        "x = np.array([1,3,5]); y = np.array([2,4,6])\n",
        "xy = np.concatenate([x,y])\n",
        "print('union', np.union1d(x,y))\n",
        "print('intersect', np.intersect1d(xy,[1,2,10]))\n",
        "print('sorted descending', np.sort(xy)[::-1])\n"
      ]
    },
    {
      "cell_type": "code",
      "execution_count": 10,
      "id": "4231e729",
      "metadata": {
        "colab": {
          "base_uri": "https://localhost:8080/"
        },
        "id": "4231e729",
        "outputId": "25cd1005-86d0-4f4e-f109-a5c80ceadef4"
      },
      "outputs": [
        {
          "output_type": "stream",
          "name": "stdout",
          "text": [
            "[array([1, 3, 5]), array([2, 4, 6])]\n"
          ]
        }
      ],
      "source": [
        "# 🖊️ TODO: split `xy` back into two equal halves using `np.array_split`\n",
        "x = np.array([1,3,5]); y = np.array([2,4,6])\n",
        "xy = np.concatenate([x,y])\n",
        "split_arrays = np.array_split(xy, 2)\n",
        "print(split_arrays)"
      ]
    },
    {
      "cell_type": "markdown",
      "id": "e6ebeb68",
      "metadata": {
        "id": "e6ebeb68"
      },
      "source": [
        "## <a name='arithmetic'></a>7️⃣ Arithmetic Ops & Universal Functions"
      ]
    },
    {
      "cell_type": "code",
      "execution_count": 11,
      "id": "04a6eda9",
      "metadata": {
        "id": "04a6eda9",
        "colab": {
          "base_uri": "https://localhost:8080/"
        },
        "outputId": "5233d698-e7f9-49aa-a58d-dd51b0d53be6"
      },
      "outputs": [
        {
          "output_type": "stream",
          "name": "stdout",
          "text": [
            "exp [ 1.          2.71828183  7.3890561  20.08553692 54.59815003]\n",
            "sin [ 0.          0.84147098  0.90929743  0.14112001 -0.7568025 ]\n",
            "vectorised addition [10 11 12 13 14]\n"
          ]
        }
      ],
      "source": [
        "v = np.arange(5)\n",
        "print('exp', np.exp(v))\n",
        "print('sin', np.sin(v))\n",
        "print('vectorised addition', v + 10)\n"
      ]
    },
    {
      "cell_type": "code",
      "execution_count": 12,
      "id": "c011f422",
      "metadata": {
        "colab": {
          "base_uri": "https://localhost:8080/"
        },
        "id": "c011f422",
        "outputId": "5be8bb27-3160-4d1f-a669-36653a7506f8"
      },
      "outputs": [
        {
          "output_type": "stream",
          "name": "stdout",
          "text": [
            "Degrees: [ 0 30 45 60 90]\n",
            "Radians: [0.         0.52359878 0.78539816 1.04719755 1.57079633]\n",
            "Sine values: [0.         0.5        0.70710678 0.8660254  1.        ]\n"
          ]
        }
      ],
      "source": [
        "# 🖊️ TODO: given degrees [0,30,45,60,90], compute radians and sin values.\n",
        "degrees = np.array([0, 30, 45, 60, 90])\n",
        "radians = np.deg2rad(degrees)\n",
        "sin_values = np.sin(radians)\n",
        "\n",
        "print(\"Degrees:\", degrees)\n",
        "print(\"Radians:\", radians)\n",
        "print(\"Sine values:\", sin_values)"
      ]
    },
    {
      "cell_type": "markdown",
      "id": "7c9a5d70",
      "metadata": {
        "id": "7c9a5d70"
      },
      "source": [
        "## <a name='broadcast'></a>8️⃣ Broadcasting Rules"
      ]
    },
    {
      "cell_type": "markdown",
      "id": "aba2764d",
      "metadata": {
        "id": "aba2764d"
      },
      "source": [
        "Rules: compare dimensions from right → left; stretch size 1 dims; mismatch error."
      ]
    },
    {
      "cell_type": "code",
      "execution_count": 13,
      "id": "6313899c",
      "metadata": {
        "id": "6313899c",
        "colab": {
          "base_uri": "https://localhost:8080/"
        },
        "outputId": "7f60e8a0-62d5-4244-bcc6-afbc200570c7"
      },
      "outputs": [
        {
          "output_type": "stream",
          "name": "stdout",
          "text": [
            "[[0 1 2 3 4]\n",
            " [1 2 3 4 5]\n",
            " [2 3 4 5 6]]\n"
          ]
        }
      ],
      "source": [
        "row = np.arange(5)\n",
        "col = np.arange(3).reshape(3,1)\n",
        "matrix = row + col  # broadcast to 3×5\n",
        "print(matrix)\n"
      ]
    },
    {
      "cell_type": "code",
      "execution_count": 14,
      "id": "de718119",
      "metadata": {
        "colab": {
          "base_uri": "https://localhost:8080/"
        },
        "id": "de718119",
        "outputId": "393c7239-2ce3-4748-9346-cfe5c1408c1f"
      },
      "outputs": [
        {
          "output_type": "stream",
          "name": "stdout",
          "text": [
            "[[  1   2   3   4   5   6   7   8   9  10]\n",
            " [  2   4   6   8  10  12  14  16  18  20]\n",
            " [  3   6   9  12  15  18  21  24  27  30]\n",
            " [  4   8  12  16  20  24  28  32  36  40]\n",
            " [  5  10  15  20  25  30  35  40  45  50]\n",
            " [  6  12  18  24  30  36  42  48  54  60]\n",
            " [  7  14  21  28  35  42  49  56  63  70]\n",
            " [  8  16  24  32  40  48  56  64  72  80]\n",
            " [  9  18  27  36  45  54  63  72  81  90]\n",
            " [ 10  20  30  40  50  60  70  80  90 100]]\n"
          ]
        }
      ],
      "source": [
        "# 🖊️ TODO: use broadcasting to create a 10×10 multiplication table.\n",
        "a = np.arange(1, 11)\n",
        "b = np.arange(1, 11).reshape(-1, 1)\n",
        "multiplication_table = a * b\n",
        "print(multiplication_table)"
      ]
    },
    {
      "cell_type": "markdown",
      "id": "38a618c8",
      "metadata": {
        "id": "38a618c8"
      },
      "source": [
        "## <a name='stats'></a>9️⃣ Statistics & Aggregations"
      ]
    },
    {
      "cell_type": "code",
      "execution_count": 15,
      "id": "af9ac70d",
      "metadata": {
        "id": "af9ac70d",
        "colab": {
          "base_uri": "https://localhost:8080/"
        },
        "outputId": "6dfa5a50-f56b-4f42-d07a-3fa01d3d06d6"
      },
      "outputs": [
        {
          "output_type": "stream",
          "name": "stdout",
          "text": [
            "data\n",
            " [[85 64 51 27]\n",
            " [31  5  8  2]\n",
            " [18 81 65 91]\n",
            " [50 61 97 73]\n",
            " [63 54 56 93]]\n",
            "row sums [227  46 255 281 266]\n",
            "col means [49.4 53.  55.4 57.2]\n"
          ]
        }
      ],
      "source": [
        "data = np.random.default_rng(0).integers(1, 100, size=(5,4))\n",
        "print('data\\n', data)\n",
        "print('row sums', data.sum(axis=1))\n",
        "print('col means', data.mean(axis=0))\n"
      ]
    },
    {
      "cell_type": "code",
      "execution_count": 16,
      "id": "63adf5be",
      "metadata": {
        "colab": {
          "base_uri": "https://localhost:8080/"
        },
        "id": "63adf5be",
        "outputId": "ab6375c9-764c-40c2-b54a-2dc111846929"
      },
      "outputs": [
        {
          "output_type": "stream",
          "name": "stdout",
          "text": [
            "25th, 50th, and 75th percentiles: [30.  58.5 75. ]\n"
          ]
        }
      ],
      "source": [
        "# 🖊️ TODO: compute `np.percentile` (25th, 50th, 75th) of flattened `data`.\n",
        "data = np.random.default_rng(0).integers(1, 100, size=(5,4))\n",
        "flattened_data = data.flatten()\n",
        "percentiles = np.percentile(flattened_data, [25, 50, 75])\n",
        "print(\"25th, 50th, and 75th percentiles:\", percentiles)"
      ]
    },
    {
      "cell_type": "markdown",
      "id": "8f3c00d7",
      "metadata": {
        "id": "8f3c00d7"
      },
      "source": [
        "## <a name='random'></a>🔟 Random Numbers & Reproducibility"
      ]
    },
    {
      "cell_type": "code",
      "execution_count": 17,
      "id": "98016975",
      "metadata": {
        "id": "98016975",
        "colab": {
          "base_uri": "https://localhost:8080/"
        },
        "outputId": "4298fc8b-3bd2-4e8e-ec4e-76c0623aad95"
      },
      "outputs": [
        {
          "output_type": "stream",
          "name": "stdout",
          "text": [
            "[0.77395605 0.43887844 0.85859792 0.69736803 0.09417735] [31 49 39 40 38]\n"
          ]
        }
      ],
      "source": [
        "rng = np.random.default_rng(42)\n",
        "rand_floats = rng.random(5)\n",
        "rand_ints = rng.integers(low=10, high=50, size=5)\n",
        "print(rand_floats, rand_ints)\n",
        "rng2 = np.random.default_rng(42)\n",
        "assert np.allclose(rand_floats, rng2.random(5))\n"
      ]
    },
    {
      "cell_type": "code",
      "execution_count": 18,
      "id": "35dbadba",
      "metadata": {
        "colab": {
          "base_uri": "https://localhost:8080/"
        },
        "id": "35dbadba",
        "outputId": "c5cf2229-6702-49f7-cbd9-f0e7883f6946"
      },
      "outputs": [
        {
          "output_type": "stream",
          "name": "stdout",
          "text": [
            "Proportion of 6s: 0.24\n"
          ]
        }
      ],
      "source": [
        "# 🖊️ TODO: simulate rolling a fair six‑sided die 100 times; estimate proportion of 6s.\n",
        "rng = np.random.default_rng()\n",
        "rolls = rng.integers(1, 7, size=100)\n",
        "proportion_of_sixes = np.sum(rolls == 6) / 100\n",
        "print(\"Proportion of 6s:\", proportion_of_sixes)"
      ]
    },
    {
      "cell_type": "markdown",
      "id": "6cdb04b2",
      "metadata": {
        "id": "6cdb04b2"
      },
      "source": [
        "## <a name='structured'></a>1️⃣1️⃣ Structured / Record Arrays"
      ]
    },
    {
      "cell_type": "code",
      "execution_count": 19,
      "id": "d8f64e42",
      "metadata": {
        "id": "d8f64e42",
        "colab": {
          "base_uri": "https://localhost:8080/"
        },
        "outputId": "c11f6d50-c560-4797-a9b6-725edefc38b5"
      },
      "outputs": [
        {
          "output_type": "stream",
          "name": "stdout",
          "text": [
            "['Alice' 'Bob'] 27.5\n"
          ]
        }
      ],
      "source": [
        "people = np.array([('Alice', 25, 55.0), ('Bob', 30, 85.5)],\n",
        "                   dtype=[('name','U10'), ('age','i4'), ('weight','f4')])\n",
        "print(people['name'], people['age'].mean())\n"
      ]
    },
    {
      "cell_type": "code",
      "execution_count": 20,
      "id": "7a65fe1d",
      "metadata": {
        "colab": {
          "base_uri": "https://localhost:8080/"
        },
        "id": "7a65fe1d",
        "outputId": "8be0122d-e3c0-4c98-86cf-bc7d927b53c5"
      },
      "outputs": [
        {
          "output_type": "stream",
          "name": "stdout",
          "text": [
            "[('Alice', 25, 55. , 1.65) ('Bob', 30, 85.5, 1.8 )]\n"
          ]
        }
      ],
      "source": [
        "from numpy.lib.recfunctions import append_fields\n",
        "import numpy as np\n",
        "\n",
        "people = np.array([('Alice', 25, 55.0), ('Bob', 30, 85.5)],\n",
        "                   dtype=[('name','U10'), ('age','i4'), ('weight','f4')])\n",
        "heights = np.array([1.65, 1.80], dtype='f4')\n",
        "people_with_height = append_fields(people, 'height', data=heights, usemask=False)\n",
        "\n",
        "print(people_with_height)"
      ]
    },
    {
      "cell_type": "markdown",
      "id": "df5b617b",
      "metadata": {
        "id": "df5b617b"
      },
      "source": [
        "## <a name='linalg'></a>1️⃣2️⃣ Linear Algebra Essentials"
      ]
    },
    {
      "cell_type": "code",
      "execution_count": 21,
      "id": "3f7fb475",
      "metadata": {
        "id": "3f7fb475",
        "colab": {
          "base_uri": "https://localhost:8080/"
        },
        "outputId": "7737edf8-dd5f-4efc-af82-590f127252b7"
      },
      "outputs": [
        {
          "output_type": "stream",
          "name": "stdout",
          "text": [
            "A·x ≈ b? True\n"
          ]
        }
      ],
      "source": [
        "A = np.random.random((3,3))\n",
        "b = np.random.random(3)\n",
        "x = np.linalg.solve(A, b)\n",
        "print('A·x ≈ b?', np.allclose(A.dot(x), b))\n"
      ]
    },
    {
      "cell_type": "code",
      "execution_count": 22,
      "id": "a8fb02d7",
      "metadata": {
        "colab": {
          "base_uri": "https://localhost:8080/"
        },
        "id": "a8fb02d7",
        "outputId": "892b130d-7376-4813-a15b-176ad5a6ed69"
      },
      "outputs": [
        {
          "output_type": "stream",
          "name": "stdout",
          "text": [
            "Eigenvalues of A: [ 1.07645103+0.j         -0.34674519+0.11954082j -0.34674519-0.11954082j]\n"
          ]
        }
      ],
      "source": [
        "import numpy as np\n",
        "\n",
        "A = np.random.random((3,3))\n",
        "eigenvalues, eigenvectors = np.linalg.eig(A)\n",
        "print(\"Eigenvalues of A:\", eigenvalues)"
      ]
    },
    {
      "cell_type": "markdown",
      "id": "e8fd753c",
      "metadata": {
        "id": "e8fd753c"
      },
      "source": [
        "## <a name='io'></a>1️⃣3️⃣ File I/O (`npy`, `npz`, `txt`)"
      ]
    },
    {
      "cell_type": "code",
      "execution_count": 23,
      "id": "bd6dc026",
      "metadata": {
        "id": "bd6dc026",
        "colab": {
          "base_uri": "https://localhost:8080/"
        },
        "outputId": "7dd2e6db-d339-41b3-8d5a-4e5bc9275599"
      },
      "outputs": [
        {
          "output_type": "stream",
          "name": "stdout",
          "text": [
            "loaded equals A? True\n"
          ]
        }
      ],
      "source": [
        "np.save('array.npy', A)\n",
        "loaded = np.load('array.npy')\n",
        "print('loaded equals A?', np.allclose(loaded, A))\n",
        "np.savez('multi_arrays.npz', A=A, b=b)\n"
      ]
    },
    {
      "cell_type": "code",
      "execution_count": 24,
      "id": "d9552893",
      "metadata": {
        "id": "d9552893",
        "colab": {
          "base_uri": "https://localhost:8080/"
        },
        "outputId": "2c4e856a-ea23-4fc8-ad04-7166c4afe3bd"
      },
      "outputs": [
        {
          "output_type": "stream",
          "name": "stdout",
          "text": [
            "Loaded data equals original data? True\n"
          ]
        }
      ],
      "source": [
        "np.savetxt('data.csv', data, delimiter=',')\n",
        "loaded_data = np.loadtxt('data.csv', delimiter=',')\n",
        "print('Loaded data equals original data?', np.allclose(loaded_data, data))"
      ]
    },
    {
      "cell_type": "markdown",
      "id": "f24f33e3",
      "metadata": {
        "id": "f24f33e3"
      },
      "source": [
        "## <a name='datetime'></a>1️⃣4️⃣ Datetime64 & Timedelta64"
      ]
    },
    {
      "cell_type": "code",
      "execution_count": 25,
      "id": "3ce7b543",
      "metadata": {
        "id": "3ce7b543",
        "colab": {
          "base_uri": "https://localhost:8080/"
        },
        "outputId": "d4f7eab1-2682-45c8-d527-6ed52535e367"
      },
      "outputs": [
        {
          "output_type": "stream",
          "name": "stdout",
          "text": [
            "['2023-01-01' '2023-01-02' '2023-01-03' '2023-01-04' '2023-01-05'] 1 days\n"
          ]
        }
      ],
      "source": [
        "dates = np.arange('2023-01', '2023-04', dtype='datetime64[D]')\n",
        "delta = dates[1:] - dates[:-1]\n",
        "print(dates[:5], delta[0])\n"
      ]
    },
    {
      "cell_type": "code",
      "execution_count": 26,
      "id": "e493d6f8",
      "metadata": {
        "id": "e493d6f8",
        "colab": {
          "base_uri": "https://localhost:8080/"
        },
        "outputId": "9331feff-08a5-43be-ad7c-d4bb33753347"
      },
      "outputs": [
        {
          "output_type": "stream",
          "name": "stdout",
          "text": [
            "Number of Mondays: 13\n"
          ]
        }
      ],
      "source": [
        "mondays = np.is_busday(dates, weekmask='Mon')\n",
        "num_mondays = np.sum(mondays)\n",
        "print(\"Number of Mondays:\", num_mondays)"
      ]
    },
    {
      "cell_type": "markdown",
      "id": "636116b9",
      "metadata": {
        "id": "636116b9"
      },
      "source": [
        "## <a name='mask'></a>1️⃣5️⃣ Masked Arrays & NaNs"
      ]
    },
    {
      "cell_type": "code",
      "execution_count": 27,
      "id": "ec30b3ee",
      "metadata": {
        "id": "ec30b3ee",
        "colab": {
          "base_uri": "https://localhost:8080/"
        },
        "outputId": "fc35933e-9997-4002-d1df-4d1de3ffcc9a"
      },
      "outputs": [
        {
          "output_type": "stream",
          "name": "stdout",
          "text": [
            "2.3333333333333335\n"
          ]
        }
      ],
      "source": [
        "arr = np.array([1, 2, np.nan, 4, np.nan])\n",
        "masked = np.ma.masked_invalid(arr)\n",
        "print(masked.mean())\n"
      ]
    },
    {
      "cell_type": "code",
      "execution_count": 32,
      "id": "1ead3a9c",
      "metadata": {
        "id": "1ead3a9c",
        "colab": {
          "base_uri": "https://localhost:8080/"
        },
        "outputId": "818c1d06-e8a5-4058-e337-13d29efbc37a"
      },
      "outputs": [
        {
          "output_type": "stream",
          "name": "stdout",
          "text": [
            "[[ 1.          2.         11.          4.        ]\n",
            " [ 5.          8.66666667  7.          8.        ]\n",
            " [ 9.         10.         11.          9.33333333]\n",
            " [13.         14.         15.         16.        ]]\n"
          ]
        }
      ],
      "source": [
        "# 🖊️ TODO: replace NaNs with column means in a 2‑D array containing NaNs.\n",
        "arr_2d_with_nan = np.array([[1, 2, np.nan, 4],\n",
        "                            [5, np.nan, 7, 8],\n",
        "                            [9, 10, 11, np.nan],\n",
        "                            [13, 14, 15, 16]])\n",
        "\n",
        "col_means = np.nanmean(arr_2d_with_nan, axis=0)\n",
        "\n",
        "for col_idx in range(arr_2d_with_nan.shape[1]):\n",
        "    nan_indices = np.isnan(arr_2d_with_nan[:, col_idx])\n",
        "    arr_2d_with_nan[nan_indices, col_idx] = col_means[col_idx]\n",
        "\n",
        "print(arr_2d_with_nan)"
      ]
    },
    {
      "cell_type": "markdown",
      "id": "509e6104",
      "metadata": {
        "id": "509e6104"
      },
      "source": [
        "## <a name='project'></a>1️⃣6️⃣ Mini‑Project: Fitness Data Analysis"
      ]
    },
    {
      "cell_type": "markdown",
      "id": "d867d3a6",
      "metadata": {
        "id": "d867d3a6"
      },
      "source": [
        "Load `fitness.txt` (tab‑separated) then follow prompts."
      ]
    },
    {
      "cell_type": "code",
      "execution_count": 51,
      "id": "593e50db",
      "metadata": {
        "id": "593e50db",
        "colab": {
          "base_uri": "https://localhost:8080/"
        },
        "collapsed": true,
        "outputId": "3f08c8af-b9bf-4ab2-852d-f11fdf40885a"
      },
      "outputs": [
        {
          "output_type": "stream",
          "name": "stdout",
          "text": [
            "columns: ('date________step_count________mood________calories_burned________hours_of_sleep________bool_of_active________weight_kg',) rows: 96\n"
          ]
        }
      ],
      "source": [
        "fitness = np.genfromtxt('fitness.txt', delimiter='\\t', dtype=None, encoding=None, names=True)\n",
        "print('columns:', fitness.dtype.names, 'rows:', len(fitness))\n"
      ]
    },
    {
      "cell_type": "code",
      "execution_count": 57,
      "id": "32e514d2",
      "metadata": {
        "id": "32e514d2",
        "colab": {
          "base_uri": "https://localhost:8080/"
        },
        "collapsed": true,
        "outputId": "c1a63609-442e-46d2-9486-79460cb79313"
      },
      "outputs": [
        {
          "output_type": "stream",
          "name": "stdout",
          "text": [
            "Monthly Step Count:\n",
            " month\n",
            "2017-10     79051\n",
            "2017-11    103071\n",
            "2017-12     89565\n",
            "2018-01     10163\n",
            "Freq: M, Name: step_count, dtype: int64\n",
            "\n",
            "Sleep vs Mood Correlation: 0.2104166644730015\n",
            "\n",
            "Weekly Summary:\n",
            "       step_count  hours_of_sleep        mood  calories_burned\n",
            "week                                                         \n",
            "1           5833        3.714286  171.428571              168\n",
            "2           4330        5.000000  250.000000                0\n",
            "40         11530        6.000000  133.333333              378\n",
            "41         23810        5.571429  114.285714              765\n",
            "42         20669        6.428571  128.571429              657\n",
            "43         16283        5.571429  214.285714              521\n",
            "44         20598        5.142857  285.714286              665\n",
            "45         31217        4.714286  285.714286             1012\n",
            "46         17714        5.571429  285.714286              589\n",
            "47         27859        5.714286  300.000000              917\n",
            "48         18701        6.428571  257.142857              601\n",
            "49         21178        5.428571  214.285714              683\n",
            "50         22628        4.285714  185.714286              728\n",
            "51         20682        4.857143  142.857143              672\n",
            "52         18818        4.142857  185.714286              615\n"
          ]
        }
      ],
      "source": [
        "# 🖊️ TODO: Monthly step count, sleep vs mood correlation, weekly summary, etc.\n",
        "import numpy as np\n",
        "import pandas as pd\n",
        "\n",
        "fitness = np.genfromtxt('fitness.txt', delimiter=None, dtype=None, encoding=None, names=True)\n",
        "\n",
        "cols = [c.lstrip('#') for c in fitness.dtype.names]\n",
        "fitness.dtype.names = tuple(cols)\n",
        "\n",
        "df = pd.DataFrame(fitness)\n",
        "\n",
        "df['date'] = pd.to_datetime(df['date'], format='%d-%m-%Y')\n",
        "df['month'] = df['date'].dt.to_period('M')\n",
        "df['week'] = df['date'].dt.isocalendar().week\n",
        "\n",
        "monthly_steps = df.groupby('month')['step_count'].sum()\n",
        "sleep_mood_corr = df['hours_of_sleep'].corr(df['mood'])\n",
        "weekly_summary = df.groupby('week').agg({\n",
        "    'step_count': 'sum',\n",
        "    'hours_of_sleep': 'mean',\n",
        "    'mood': 'mean',\n",
        "    'calories_burned': 'sum'\n",
        "})\n",
        "\n",
        "print('Monthly Step Count:\\n', monthly_steps)\n",
        "print('\\nSleep vs Mood Correlation:', sleep_mood_corr)\n",
        "print('\\nWeekly Summary:\\n', weekly_summary)\n",
        "\n"
      ]
    },
    {
      "cell_type": "markdown",
      "id": "e7c0e1dc",
      "metadata": {
        "id": "e7c0e1dc"
      },
      "source": [
        "## <a name='conclusion'></a>1️⃣7️⃣ Conclusion & Further Practice\n",
        "Congrats on covering **all core NumPy topics** from your five lecture notebooks!\n",
        "\n",
        "*Keep experimenting, read the official docs, and try converting your NumPy pipelines into Pandas or JAX for more fun.*"
      ]
    }
  ],
  "metadata": {
    "colab": {
      "provenance": []
    },
    "language_info": {
      "name": "python"
    },
    "kernelspec": {
      "name": "python3",
      "display_name": "Python 3"
    }
  },
  "nbformat": 4,
  "nbformat_minor": 5
}